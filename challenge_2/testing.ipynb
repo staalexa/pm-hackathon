{
 "cells": [
  {
   "cell_type": "code",
   "id": "initial_id",
   "metadata": {
    "collapsed": true,
    "ExecuteTime": {
     "end_time": "2025-06-13T07:44:33.094039Z",
     "start_time": "2025-06-13T07:44:31.396598Z"
    }
   },
   "source": "%pip install -r requirements.txt",
   "outputs": [
    {
     "name": "stdout",
     "output_type": "stream",
     "text": [
      "Requirement already satisfied: geopandas>=0.14.0 in /home/alexa/Documents/TUM/hackathon/.venv/lib/python3.12/site-packages (from -r requirements.txt (line 1)) (1.1.0)\r\n",
      "Collecting folium (from -r requirements.txt (line 2))\r\n",
      "  Downloading folium-0.19.7-py2.py3-none-any.whl.metadata (4.1 kB)\r\n",
      "Requirement already satisfied: numpy>=1.24 in /home/alexa/Documents/TUM/hackathon/.venv/lib64/python3.12/site-packages (from geopandas>=0.14.0->-r requirements.txt (line 1)) (2.3.0)\r\n",
      "Requirement already satisfied: pyogrio>=0.7.2 in /home/alexa/Documents/TUM/hackathon/.venv/lib64/python3.12/site-packages (from geopandas>=0.14.0->-r requirements.txt (line 1)) (0.11.0)\r\n",
      "Requirement already satisfied: packaging in /home/alexa/Documents/TUM/hackathon/.venv/lib/python3.12/site-packages (from geopandas>=0.14.0->-r requirements.txt (line 1)) (25.0)\r\n",
      "Requirement already satisfied: pandas>=2.0.0 in /home/alexa/Documents/TUM/hackathon/.venv/lib64/python3.12/site-packages (from geopandas>=0.14.0->-r requirements.txt (line 1)) (2.3.0)\r\n",
      "Requirement already satisfied: pyproj>=3.5.0 in /home/alexa/Documents/TUM/hackathon/.venv/lib64/python3.12/site-packages (from geopandas>=0.14.0->-r requirements.txt (line 1)) (3.7.1)\r\n",
      "Requirement already satisfied: shapely>=2.0.0 in /home/alexa/Documents/TUM/hackathon/.venv/lib64/python3.12/site-packages (from geopandas>=0.14.0->-r requirements.txt (line 1)) (2.1.1)\r\n",
      "Collecting branca>=0.6.0 (from folium->-r requirements.txt (line 2))\r\n",
      "  Downloading branca-0.8.1-py3-none-any.whl.metadata (1.5 kB)\r\n",
      "Requirement already satisfied: jinja2>=2.9 in /home/alexa/Documents/TUM/hackathon/.venv/lib/python3.12/site-packages (from folium->-r requirements.txt (line 2)) (3.1.6)\r\n",
      "Requirement already satisfied: requests in /home/alexa/Documents/TUM/hackathon/.venv/lib/python3.12/site-packages (from folium->-r requirements.txt (line 2)) (2.32.4)\r\n",
      "Collecting xyzservices (from folium->-r requirements.txt (line 2))\r\n",
      "  Downloading xyzservices-2025.4.0-py3-none-any.whl.metadata (4.3 kB)\r\n",
      "Requirement already satisfied: MarkupSafe>=2.0 in /home/alexa/Documents/TUM/hackathon/.venv/lib64/python3.12/site-packages (from jinja2>=2.9->folium->-r requirements.txt (line 2)) (3.0.2)\r\n",
      "Requirement already satisfied: python-dateutil>=2.8.2 in /home/alexa/Documents/TUM/hackathon/.venv/lib/python3.12/site-packages (from pandas>=2.0.0->geopandas>=0.14.0->-r requirements.txt (line 1)) (2.9.0.post0)\r\n",
      "Requirement already satisfied: pytz>=2020.1 in /home/alexa/Documents/TUM/hackathon/.venv/lib/python3.12/site-packages (from pandas>=2.0.0->geopandas>=0.14.0->-r requirements.txt (line 1)) (2025.2)\r\n",
      "Requirement already satisfied: tzdata>=2022.7 in /home/alexa/Documents/TUM/hackathon/.venv/lib/python3.12/site-packages (from pandas>=2.0.0->geopandas>=0.14.0->-r requirements.txt (line 1)) (2025.2)\r\n",
      "Requirement already satisfied: certifi in /home/alexa/Documents/TUM/hackathon/.venv/lib/python3.12/site-packages (from pyogrio>=0.7.2->geopandas>=0.14.0->-r requirements.txt (line 1)) (2025.4.26)\r\n",
      "Requirement already satisfied: charset_normalizer<4,>=2 in /home/alexa/Documents/TUM/hackathon/.venv/lib64/python3.12/site-packages (from requests->folium->-r requirements.txt (line 2)) (3.4.2)\r\n",
      "Requirement already satisfied: idna<4,>=2.5 in /home/alexa/Documents/TUM/hackathon/.venv/lib/python3.12/site-packages (from requests->folium->-r requirements.txt (line 2)) (3.10)\r\n",
      "Requirement already satisfied: urllib3<3,>=1.21.1 in /home/alexa/Documents/TUM/hackathon/.venv/lib/python3.12/site-packages (from requests->folium->-r requirements.txt (line 2)) (2.4.0)\r\n",
      "Requirement already satisfied: six>=1.5 in /home/alexa/Documents/TUM/hackathon/.venv/lib/python3.12/site-packages (from python-dateutil>=2.8.2->pandas>=2.0.0->geopandas>=0.14.0->-r requirements.txt (line 1)) (1.17.0)\r\n",
      "Downloading folium-0.19.7-py2.py3-none-any.whl (112 kB)\r\n",
      "Downloading branca-0.8.1-py3-none-any.whl (26 kB)\r\n",
      "Downloading xyzservices-2025.4.0-py3-none-any.whl (90 kB)\r\n",
      "Installing collected packages: xyzservices, branca, folium\r\n",
      "Successfully installed branca-0.8.1 folium-0.19.7 xyzservices-2025.4.0\r\n",
      "\r\n",
      "\u001B[1m[\u001B[0m\u001B[34;49mnotice\u001B[0m\u001B[1;39;49m]\u001B[0m\u001B[39;49m A new release of pip is available: \u001B[0m\u001B[31;49m24.3.1\u001B[0m\u001B[39;49m -> \u001B[0m\u001B[32;49m25.1.1\u001B[0m\r\n",
      "\u001B[1m[\u001B[0m\u001B[34;49mnotice\u001B[0m\u001B[1;39;49m]\u001B[0m\u001B[39;49m To update, run: \u001B[0m\u001B[32;49mpip install --upgrade pip\u001B[0m\r\n",
      "Note: you may need to restart the kernel to use updated packages.\n"
     ]
    }
   ],
   "execution_count": 3
  },
  {
   "metadata": {
    "ExecuteTime": {
     "end_time": "2025-06-13T07:48:11.914396Z",
     "start_time": "2025-06-13T07:48:11.741780Z"
    }
   },
   "cell_type": "code",
   "source": [
    "import geopandas as gpd\n",
    "import pandas as pd\n",
    "import folium\n",
    "\n",
    "# Load issues data\n",
    "issues_df = pd.read_csv('../data/challenge_2/complete_issues_data.csv')\n",
    "\n",
    "# Load state boundaries and convert to web-friendly projection\n",
    "states = gpd.read_file(\"../vg5000_12-31.gk3.shape.ebenen/vg5000_ebenen_1231/VG5000_LAN.shp\")\n",
    "states_wgs84 = states.to_crs(\"EPSG:4326\")\n",
    "\n",
    "# Count issues per state\n",
    "issues_per_state = issues_df.groupby('state').size().reset_index(name='issue_count')\n",
    "\n",
    "# Merge with geodata\n",
    "states_with_data = states_wgs84.merge(issues_per_state, left_on='GEN', right_on='state', how='left')\n",
    "\n",
    "# Create choropleth map\n",
    "m = folium.Map(location=[51.0, 10.0], zoom_start=6)\n",
    "\n",
    "folium.Choropleth(\n",
    "    geo_data=states_with_data.to_json(),\n",
    "    name='Issues by State',\n",
    "    data=states_with_data,\n",
    "    columns=['GEN', 'issue_count'],\n",
    "    key_on='feature.properties.GEN',\n",
    "    fill_color='YlOrRd',\n",
    "    fill_opacity=0.7,\n",
    "    line_opacity=0.2,\n",
    "    legend_name='Number of Issues'\n",
    ").add_to(m)\n",
    "\n",
    "# Add tooltips\n",
    "folium.features.GeoJson(\n",
    "    states_with_data,\n",
    "    name='State Info',\n",
    "    tooltip=folium.features.GeoJsonTooltip(\n",
    "        fields=['GEN', 'issue_count'],\n",
    "        aliases=['State:', 'Issues:'],\n",
    "        localize=True\n",
    "    )\n",
    ").add_to(m)\n",
    "\n",
    "m.save('germany_issues_choropleth.html')"
   ],
   "id": "7295aa15bc96c2d7",
   "outputs": [
    {
     "ename": "TypeError",
     "evalue": "Object of type Timestamp is not JSON serializable",
     "output_type": "error",
     "traceback": [
      "\u001B[31m---------------------------------------------------------------------------\u001B[39m",
      "\u001B[31mTypeError\u001B[39m                                 Traceback (most recent call last)",
      "\u001B[36mCell\u001B[39m\u001B[36m \u001B[39m\u001B[32mIn[14]\u001B[39m\u001B[32m, line 22\u001B[39m\n\u001B[32m     18\u001B[39m \u001B[38;5;66;03m# Create choropleth map\u001B[39;00m\n\u001B[32m     19\u001B[39m m = folium.Map(location=[\u001B[32m51.0\u001B[39m, \u001B[32m10.0\u001B[39m], zoom_start=\u001B[32m6\u001B[39m)\n\u001B[32m     21\u001B[39m folium.Choropleth(\n\u001B[32m---> \u001B[39m\u001B[32m22\u001B[39m     geo_data=\u001B[43mstates_with_data\u001B[49m\u001B[43m.\u001B[49m\u001B[43mto_json\u001B[49m\u001B[43m(\u001B[49m\u001B[43m)\u001B[49m,\n\u001B[32m     23\u001B[39m     name=\u001B[33m'\u001B[39m\u001B[33mIssues by State\u001B[39m\u001B[33m'\u001B[39m,\n\u001B[32m     24\u001B[39m     data=states_with_data,\n\u001B[32m     25\u001B[39m     columns=[\u001B[33m'\u001B[39m\u001B[33mGEN\u001B[39m\u001B[33m'\u001B[39m, \u001B[33m'\u001B[39m\u001B[33missue_count\u001B[39m\u001B[33m'\u001B[39m],\n\u001B[32m     26\u001B[39m     key_on=\u001B[33m'\u001B[39m\u001B[33mfeature.properties.GEN\u001B[39m\u001B[33m'\u001B[39m,\n\u001B[32m     27\u001B[39m     fill_color=\u001B[33m'\u001B[39m\u001B[33mYlOrRd\u001B[39m\u001B[33m'\u001B[39m,\n\u001B[32m     28\u001B[39m     fill_opacity=\u001B[32m0.7\u001B[39m,\n\u001B[32m     29\u001B[39m     line_opacity=\u001B[32m0.2\u001B[39m,\n\u001B[32m     30\u001B[39m     legend_name=\u001B[33m'\u001B[39m\u001B[33mNumber of Issues\u001B[39m\u001B[33m'\u001B[39m\n\u001B[32m     31\u001B[39m ).add_to(m)\n\u001B[32m     33\u001B[39m \u001B[38;5;66;03m# Add tooltips\u001B[39;00m\n\u001B[32m     34\u001B[39m folium.features.GeoJson(\n\u001B[32m     35\u001B[39m     states_with_data,\n\u001B[32m     36\u001B[39m     name=\u001B[33m'\u001B[39m\u001B[33mState Info\u001B[39m\u001B[33m'\u001B[39m,\n\u001B[32m   (...)\u001B[39m\u001B[32m     41\u001B[39m     )\n\u001B[32m     42\u001B[39m ).add_to(m)\n",
      "\u001B[36mFile \u001B[39m\u001B[32m~/Documents/TUM/hackathon/.venv/lib/python3.12/site-packages/geopandas/geodataframe.py:1055\u001B[39m, in \u001B[36mGeoDataFrame.to_json\u001B[39m\u001B[34m(self, na, show_bbox, drop_id, to_wgs84, **kwargs)\u001B[39m\n\u001B[32m   1052\u001B[39m         ogc_crs = \u001B[33mf\u001B[39m\u001B[33m\"\u001B[39m\u001B[33murn:ogc:def:crs:\u001B[39m\u001B[38;5;132;01m{\u001B[39;00mauthority\u001B[38;5;132;01m}\u001B[39;00m\u001B[33m::\u001B[39m\u001B[38;5;132;01m{\u001B[39;00mcode\u001B[38;5;132;01m}\u001B[39;00m\u001B[33m\"\u001B[39m\n\u001B[32m   1053\u001B[39m         geo[\u001B[33m\"\u001B[39m\u001B[33mcrs\u001B[39m\u001B[33m\"\u001B[39m] = {\u001B[33m\"\u001B[39m\u001B[33mtype\u001B[39m\u001B[33m\"\u001B[39m: \u001B[33m\"\u001B[39m\u001B[33mname\u001B[39m\u001B[33m\"\u001B[39m, \u001B[33m\"\u001B[39m\u001B[33mproperties\u001B[39m\u001B[33m\"\u001B[39m: {\u001B[33m\"\u001B[39m\u001B[33mname\u001B[39m\u001B[33m\"\u001B[39m: ogc_crs}}\n\u001B[32m-> \u001B[39m\u001B[32m1055\u001B[39m \u001B[38;5;28;01mreturn\u001B[39;00m \u001B[43mjson\u001B[49m\u001B[43m.\u001B[49m\u001B[43mdumps\u001B[49m\u001B[43m(\u001B[49m\u001B[43mgeo\u001B[49m\u001B[43m,\u001B[49m\u001B[43m \u001B[49m\u001B[43m*\u001B[49m\u001B[43m*\u001B[49m\u001B[43mkwargs\u001B[49m\u001B[43m)\u001B[49m\n",
      "\u001B[36mFile \u001B[39m\u001B[32m/usr/lib64/python3.12/json/__init__.py:231\u001B[39m, in \u001B[36mdumps\u001B[39m\u001B[34m(obj, skipkeys, ensure_ascii, check_circular, allow_nan, cls, indent, separators, default, sort_keys, **kw)\u001B[39m\n\u001B[32m    226\u001B[39m \u001B[38;5;66;03m# cached encoder\u001B[39;00m\n\u001B[32m    227\u001B[39m \u001B[38;5;28;01mif\u001B[39;00m (\u001B[38;5;129;01mnot\u001B[39;00m skipkeys \u001B[38;5;129;01mand\u001B[39;00m ensure_ascii \u001B[38;5;129;01mand\u001B[39;00m\n\u001B[32m    228\u001B[39m     check_circular \u001B[38;5;129;01mand\u001B[39;00m allow_nan \u001B[38;5;129;01mand\u001B[39;00m\n\u001B[32m    229\u001B[39m     \u001B[38;5;28mcls\u001B[39m \u001B[38;5;129;01mis\u001B[39;00m \u001B[38;5;28;01mNone\u001B[39;00m \u001B[38;5;129;01mand\u001B[39;00m indent \u001B[38;5;129;01mis\u001B[39;00m \u001B[38;5;28;01mNone\u001B[39;00m \u001B[38;5;129;01mand\u001B[39;00m separators \u001B[38;5;129;01mis\u001B[39;00m \u001B[38;5;28;01mNone\u001B[39;00m \u001B[38;5;129;01mand\u001B[39;00m\n\u001B[32m    230\u001B[39m     default \u001B[38;5;129;01mis\u001B[39;00m \u001B[38;5;28;01mNone\u001B[39;00m \u001B[38;5;129;01mand\u001B[39;00m \u001B[38;5;129;01mnot\u001B[39;00m sort_keys \u001B[38;5;129;01mand\u001B[39;00m \u001B[38;5;129;01mnot\u001B[39;00m kw):\n\u001B[32m--> \u001B[39m\u001B[32m231\u001B[39m     \u001B[38;5;28;01mreturn\u001B[39;00m \u001B[43m_default_encoder\u001B[49m\u001B[43m.\u001B[49m\u001B[43mencode\u001B[49m\u001B[43m(\u001B[49m\u001B[43mobj\u001B[49m\u001B[43m)\u001B[49m\n\u001B[32m    232\u001B[39m \u001B[38;5;28;01mif\u001B[39;00m \u001B[38;5;28mcls\u001B[39m \u001B[38;5;129;01mis\u001B[39;00m \u001B[38;5;28;01mNone\u001B[39;00m:\n\u001B[32m    233\u001B[39m     \u001B[38;5;28mcls\u001B[39m = JSONEncoder\n",
      "\u001B[36mFile \u001B[39m\u001B[32m/usr/lib64/python3.12/json/encoder.py:200\u001B[39m, in \u001B[36mJSONEncoder.encode\u001B[39m\u001B[34m(self, o)\u001B[39m\n\u001B[32m    196\u001B[39m         \u001B[38;5;28;01mreturn\u001B[39;00m encode_basestring(o)\n\u001B[32m    197\u001B[39m \u001B[38;5;66;03m# This doesn't pass the iterator directly to ''.join() because the\u001B[39;00m\n\u001B[32m    198\u001B[39m \u001B[38;5;66;03m# exceptions aren't as detailed.  The list call should be roughly\u001B[39;00m\n\u001B[32m    199\u001B[39m \u001B[38;5;66;03m# equivalent to the PySequence_Fast that ''.join() would do.\u001B[39;00m\n\u001B[32m--> \u001B[39m\u001B[32m200\u001B[39m chunks = \u001B[38;5;28;43mself\u001B[39;49m\u001B[43m.\u001B[49m\u001B[43miterencode\u001B[49m\u001B[43m(\u001B[49m\u001B[43mo\u001B[49m\u001B[43m,\u001B[49m\u001B[43m \u001B[49m\u001B[43m_one_shot\u001B[49m\u001B[43m=\u001B[49m\u001B[38;5;28;43;01mTrue\u001B[39;49;00m\u001B[43m)\u001B[49m\n\u001B[32m    201\u001B[39m \u001B[38;5;28;01mif\u001B[39;00m \u001B[38;5;129;01mnot\u001B[39;00m \u001B[38;5;28misinstance\u001B[39m(chunks, (\u001B[38;5;28mlist\u001B[39m, \u001B[38;5;28mtuple\u001B[39m)):\n\u001B[32m    202\u001B[39m     chunks = \u001B[38;5;28mlist\u001B[39m(chunks)\n",
      "\u001B[36mFile \u001B[39m\u001B[32m/usr/lib64/python3.12/json/encoder.py:258\u001B[39m, in \u001B[36mJSONEncoder.iterencode\u001B[39m\u001B[34m(self, o, _one_shot)\u001B[39m\n\u001B[32m    253\u001B[39m \u001B[38;5;28;01melse\u001B[39;00m:\n\u001B[32m    254\u001B[39m     _iterencode = _make_iterencode(\n\u001B[32m    255\u001B[39m         markers, \u001B[38;5;28mself\u001B[39m.default, _encoder, \u001B[38;5;28mself\u001B[39m.indent, floatstr,\n\u001B[32m    256\u001B[39m         \u001B[38;5;28mself\u001B[39m.key_separator, \u001B[38;5;28mself\u001B[39m.item_separator, \u001B[38;5;28mself\u001B[39m.sort_keys,\n\u001B[32m    257\u001B[39m         \u001B[38;5;28mself\u001B[39m.skipkeys, _one_shot)\n\u001B[32m--> \u001B[39m\u001B[32m258\u001B[39m \u001B[38;5;28;01mreturn\u001B[39;00m \u001B[43m_iterencode\u001B[49m\u001B[43m(\u001B[49m\u001B[43mo\u001B[49m\u001B[43m,\u001B[49m\u001B[43m \u001B[49m\u001B[32;43m0\u001B[39;49m\u001B[43m)\u001B[49m\n",
      "\u001B[36mFile \u001B[39m\u001B[32m/usr/lib64/python3.12/json/encoder.py:180\u001B[39m, in \u001B[36mJSONEncoder.default\u001B[39m\u001B[34m(self, o)\u001B[39m\n\u001B[32m    161\u001B[39m \u001B[38;5;28;01mdef\u001B[39;00m\u001B[38;5;250m \u001B[39m\u001B[34mdefault\u001B[39m(\u001B[38;5;28mself\u001B[39m, o):\n\u001B[32m    162\u001B[39m \u001B[38;5;250m    \u001B[39m\u001B[33;03m\"\"\"Implement this method in a subclass such that it returns\u001B[39;00m\n\u001B[32m    163\u001B[39m \u001B[33;03m    a serializable object for ``o``, or calls the base implementation\u001B[39;00m\n\u001B[32m    164\u001B[39m \u001B[33;03m    (to raise a ``TypeError``).\u001B[39;00m\n\u001B[32m   (...)\u001B[39m\u001B[32m    178\u001B[39m \n\u001B[32m    179\u001B[39m \u001B[33;03m    \"\"\"\u001B[39;00m\n\u001B[32m--> \u001B[39m\u001B[32m180\u001B[39m     \u001B[38;5;28;01mraise\u001B[39;00m \u001B[38;5;167;01mTypeError\u001B[39;00m(\u001B[33mf\u001B[39m\u001B[33m'\u001B[39m\u001B[33mObject of type \u001B[39m\u001B[38;5;132;01m{\u001B[39;00mo.\u001B[34m__class__\u001B[39m.\u001B[34m__name__\u001B[39m\u001B[38;5;132;01m}\u001B[39;00m\u001B[33m \u001B[39m\u001B[33m'\u001B[39m\n\u001B[32m    181\u001B[39m                     \u001B[33mf\u001B[39m\u001B[33m'\u001B[39m\u001B[33mis not JSON serializable\u001B[39m\u001B[33m'\u001B[39m)\n",
      "\u001B[31mTypeError\u001B[39m: Object of type Timestamp is not JSON serializable"
     ]
    }
   ],
   "execution_count": 14
  },
  {
   "metadata": {
    "ExecuteTime": {
     "end_time": "2025-06-13T07:46:52.462245Z",
     "start_time": "2025-06-13T07:46:52.341865Z"
    }
   },
   "cell_type": "code",
   "source": [
    "# Create base map with state boundaries\n",
    "m = folium.Map(location=[51.0, 10.0], zoom_start=6)\n",
    "\n",
    "# Add state boundaries as base layer\n",
    "folium.GeoJson(\n",
    "    states_wgs84.to_json(),\n",
    "    style_function=lambda x: {\n",
    "        'fillColor': 'lightblue',\n",
    "        'color': 'black',\n",
    "        'weight': 1,\n",
    "        'fillOpacity': 0.1\n",
    "    }\n",
    ").add_to(m)\n",
    "\n",
    "# Add individual issues as markers on top\n",
    "marker_cluster = MarkerCluster().add_to(m)\n",
    "for idx, row in issues_df.iterrows():\n",
    "    folium.Marker(\n",
    "        [row['latitude'], row['longitude']],\n",
    "        popup=f\"{row['category']}: {row['description'][:50]}...\"\n",
    "    ).add_to(marker_cluster)"
   ],
   "id": "5fe2e706ec7b2c2",
   "outputs": [
    {
     "ename": "TypeError",
     "evalue": "Object of type Timestamp is not JSON serializable",
     "output_type": "error",
     "traceback": [
      "\u001B[31m---------------------------------------------------------------------------\u001B[39m",
      "\u001B[31mTypeError\u001B[39m                                 Traceback (most recent call last)",
      "\u001B[36mCell\u001B[39m\u001B[36m \u001B[39m\u001B[32mIn[9]\u001B[39m\u001B[32m, line 6\u001B[39m\n\u001B[32m      2\u001B[39m m = folium.Map(location=[\u001B[32m51.0\u001B[39m, \u001B[32m10.0\u001B[39m], zoom_start=\u001B[32m6\u001B[39m)\n\u001B[32m      4\u001B[39m \u001B[38;5;66;03m# Add state boundaries as base layer\u001B[39;00m\n\u001B[32m      5\u001B[39m folium.GeoJson(\n\u001B[32m----> \u001B[39m\u001B[32m6\u001B[39m     \u001B[43mstates_wgs84\u001B[49m\u001B[43m.\u001B[49m\u001B[43mto_json\u001B[49m\u001B[43m(\u001B[49m\u001B[43m)\u001B[49m,\n\u001B[32m      7\u001B[39m     style_function=\u001B[38;5;28;01mlambda\u001B[39;00m x: {\n\u001B[32m      8\u001B[39m         \u001B[33m'\u001B[39m\u001B[33mfillColor\u001B[39m\u001B[33m'\u001B[39m: \u001B[33m'\u001B[39m\u001B[33mlightblue\u001B[39m\u001B[33m'\u001B[39m,\n\u001B[32m      9\u001B[39m         \u001B[33m'\u001B[39m\u001B[33mcolor\u001B[39m\u001B[33m'\u001B[39m: \u001B[33m'\u001B[39m\u001B[33mblack\u001B[39m\u001B[33m'\u001B[39m,\n\u001B[32m     10\u001B[39m         \u001B[33m'\u001B[39m\u001B[33mweight\u001B[39m\u001B[33m'\u001B[39m: \u001B[32m1\u001B[39m,\n\u001B[32m     11\u001B[39m         \u001B[33m'\u001B[39m\u001B[33mfillOpacity\u001B[39m\u001B[33m'\u001B[39m: \u001B[32m0.1\u001B[39m\n\u001B[32m     12\u001B[39m     }\n\u001B[32m     13\u001B[39m ).add_to(m)\n\u001B[32m     15\u001B[39m \u001B[38;5;66;03m# Add individual issues as markers on top\u001B[39;00m\n\u001B[32m     16\u001B[39m marker_cluster = MarkerCluster().add_to(m)\n",
      "\u001B[36mFile \u001B[39m\u001B[32m~/Documents/TUM/hackathon/.venv/lib/python3.12/site-packages/geopandas/geodataframe.py:1055\u001B[39m, in \u001B[36mGeoDataFrame.to_json\u001B[39m\u001B[34m(self, na, show_bbox, drop_id, to_wgs84, **kwargs)\u001B[39m\n\u001B[32m   1052\u001B[39m         ogc_crs = \u001B[33mf\u001B[39m\u001B[33m\"\u001B[39m\u001B[33murn:ogc:def:crs:\u001B[39m\u001B[38;5;132;01m{\u001B[39;00mauthority\u001B[38;5;132;01m}\u001B[39;00m\u001B[33m::\u001B[39m\u001B[38;5;132;01m{\u001B[39;00mcode\u001B[38;5;132;01m}\u001B[39;00m\u001B[33m\"\u001B[39m\n\u001B[32m   1053\u001B[39m         geo[\u001B[33m\"\u001B[39m\u001B[33mcrs\u001B[39m\u001B[33m\"\u001B[39m] = {\u001B[33m\"\u001B[39m\u001B[33mtype\u001B[39m\u001B[33m\"\u001B[39m: \u001B[33m\"\u001B[39m\u001B[33mname\u001B[39m\u001B[33m\"\u001B[39m, \u001B[33m\"\u001B[39m\u001B[33mproperties\u001B[39m\u001B[33m\"\u001B[39m: {\u001B[33m\"\u001B[39m\u001B[33mname\u001B[39m\u001B[33m\"\u001B[39m: ogc_crs}}\n\u001B[32m-> \u001B[39m\u001B[32m1055\u001B[39m \u001B[38;5;28;01mreturn\u001B[39;00m \u001B[43mjson\u001B[49m\u001B[43m.\u001B[49m\u001B[43mdumps\u001B[49m\u001B[43m(\u001B[49m\u001B[43mgeo\u001B[49m\u001B[43m,\u001B[49m\u001B[43m \u001B[49m\u001B[43m*\u001B[49m\u001B[43m*\u001B[49m\u001B[43mkwargs\u001B[49m\u001B[43m)\u001B[49m\n",
      "\u001B[36mFile \u001B[39m\u001B[32m/usr/lib64/python3.12/json/__init__.py:231\u001B[39m, in \u001B[36mdumps\u001B[39m\u001B[34m(obj, skipkeys, ensure_ascii, check_circular, allow_nan, cls, indent, separators, default, sort_keys, **kw)\u001B[39m\n\u001B[32m    226\u001B[39m \u001B[38;5;66;03m# cached encoder\u001B[39;00m\n\u001B[32m    227\u001B[39m \u001B[38;5;28;01mif\u001B[39;00m (\u001B[38;5;129;01mnot\u001B[39;00m skipkeys \u001B[38;5;129;01mand\u001B[39;00m ensure_ascii \u001B[38;5;129;01mand\u001B[39;00m\n\u001B[32m    228\u001B[39m     check_circular \u001B[38;5;129;01mand\u001B[39;00m allow_nan \u001B[38;5;129;01mand\u001B[39;00m\n\u001B[32m    229\u001B[39m     \u001B[38;5;28mcls\u001B[39m \u001B[38;5;129;01mis\u001B[39;00m \u001B[38;5;28;01mNone\u001B[39;00m \u001B[38;5;129;01mand\u001B[39;00m indent \u001B[38;5;129;01mis\u001B[39;00m \u001B[38;5;28;01mNone\u001B[39;00m \u001B[38;5;129;01mand\u001B[39;00m separators \u001B[38;5;129;01mis\u001B[39;00m \u001B[38;5;28;01mNone\u001B[39;00m \u001B[38;5;129;01mand\u001B[39;00m\n\u001B[32m    230\u001B[39m     default \u001B[38;5;129;01mis\u001B[39;00m \u001B[38;5;28;01mNone\u001B[39;00m \u001B[38;5;129;01mand\u001B[39;00m \u001B[38;5;129;01mnot\u001B[39;00m sort_keys \u001B[38;5;129;01mand\u001B[39;00m \u001B[38;5;129;01mnot\u001B[39;00m kw):\n\u001B[32m--> \u001B[39m\u001B[32m231\u001B[39m     \u001B[38;5;28;01mreturn\u001B[39;00m \u001B[43m_default_encoder\u001B[49m\u001B[43m.\u001B[49m\u001B[43mencode\u001B[49m\u001B[43m(\u001B[49m\u001B[43mobj\u001B[49m\u001B[43m)\u001B[49m\n\u001B[32m    232\u001B[39m \u001B[38;5;28;01mif\u001B[39;00m \u001B[38;5;28mcls\u001B[39m \u001B[38;5;129;01mis\u001B[39;00m \u001B[38;5;28;01mNone\u001B[39;00m:\n\u001B[32m    233\u001B[39m     \u001B[38;5;28mcls\u001B[39m = JSONEncoder\n",
      "\u001B[36mFile \u001B[39m\u001B[32m/usr/lib64/python3.12/json/encoder.py:200\u001B[39m, in \u001B[36mJSONEncoder.encode\u001B[39m\u001B[34m(self, o)\u001B[39m\n\u001B[32m    196\u001B[39m         \u001B[38;5;28;01mreturn\u001B[39;00m encode_basestring(o)\n\u001B[32m    197\u001B[39m \u001B[38;5;66;03m# This doesn't pass the iterator directly to ''.join() because the\u001B[39;00m\n\u001B[32m    198\u001B[39m \u001B[38;5;66;03m# exceptions aren't as detailed.  The list call should be roughly\u001B[39;00m\n\u001B[32m    199\u001B[39m \u001B[38;5;66;03m# equivalent to the PySequence_Fast that ''.join() would do.\u001B[39;00m\n\u001B[32m--> \u001B[39m\u001B[32m200\u001B[39m chunks = \u001B[38;5;28;43mself\u001B[39;49m\u001B[43m.\u001B[49m\u001B[43miterencode\u001B[49m\u001B[43m(\u001B[49m\u001B[43mo\u001B[49m\u001B[43m,\u001B[49m\u001B[43m \u001B[49m\u001B[43m_one_shot\u001B[49m\u001B[43m=\u001B[49m\u001B[38;5;28;43;01mTrue\u001B[39;49;00m\u001B[43m)\u001B[49m\n\u001B[32m    201\u001B[39m \u001B[38;5;28;01mif\u001B[39;00m \u001B[38;5;129;01mnot\u001B[39;00m \u001B[38;5;28misinstance\u001B[39m(chunks, (\u001B[38;5;28mlist\u001B[39m, \u001B[38;5;28mtuple\u001B[39m)):\n\u001B[32m    202\u001B[39m     chunks = \u001B[38;5;28mlist\u001B[39m(chunks)\n",
      "\u001B[36mFile \u001B[39m\u001B[32m/usr/lib64/python3.12/json/encoder.py:258\u001B[39m, in \u001B[36mJSONEncoder.iterencode\u001B[39m\u001B[34m(self, o, _one_shot)\u001B[39m\n\u001B[32m    253\u001B[39m \u001B[38;5;28;01melse\u001B[39;00m:\n\u001B[32m    254\u001B[39m     _iterencode = _make_iterencode(\n\u001B[32m    255\u001B[39m         markers, \u001B[38;5;28mself\u001B[39m.default, _encoder, \u001B[38;5;28mself\u001B[39m.indent, floatstr,\n\u001B[32m    256\u001B[39m         \u001B[38;5;28mself\u001B[39m.key_separator, \u001B[38;5;28mself\u001B[39m.item_separator, \u001B[38;5;28mself\u001B[39m.sort_keys,\n\u001B[32m    257\u001B[39m         \u001B[38;5;28mself\u001B[39m.skipkeys, _one_shot)\n\u001B[32m--> \u001B[39m\u001B[32m258\u001B[39m \u001B[38;5;28;01mreturn\u001B[39;00m \u001B[43m_iterencode\u001B[49m\u001B[43m(\u001B[49m\u001B[43mo\u001B[49m\u001B[43m,\u001B[49m\u001B[43m \u001B[49m\u001B[32;43m0\u001B[39;49m\u001B[43m)\u001B[49m\n",
      "\u001B[36mFile \u001B[39m\u001B[32m/usr/lib64/python3.12/json/encoder.py:180\u001B[39m, in \u001B[36mJSONEncoder.default\u001B[39m\u001B[34m(self, o)\u001B[39m\n\u001B[32m    161\u001B[39m \u001B[38;5;28;01mdef\u001B[39;00m\u001B[38;5;250m \u001B[39m\u001B[34mdefault\u001B[39m(\u001B[38;5;28mself\u001B[39m, o):\n\u001B[32m    162\u001B[39m \u001B[38;5;250m    \u001B[39m\u001B[33;03m\"\"\"Implement this method in a subclass such that it returns\u001B[39;00m\n\u001B[32m    163\u001B[39m \u001B[33;03m    a serializable object for ``o``, or calls the base implementation\u001B[39;00m\n\u001B[32m    164\u001B[39m \u001B[33;03m    (to raise a ``TypeError``).\u001B[39;00m\n\u001B[32m   (...)\u001B[39m\u001B[32m    178\u001B[39m \n\u001B[32m    179\u001B[39m \u001B[33;03m    \"\"\"\u001B[39;00m\n\u001B[32m--> \u001B[39m\u001B[32m180\u001B[39m     \u001B[38;5;28;01mraise\u001B[39;00m \u001B[38;5;167;01mTypeError\u001B[39;00m(\u001B[33mf\u001B[39m\u001B[33m'\u001B[39m\u001B[33mObject of type \u001B[39m\u001B[38;5;132;01m{\u001B[39;00mo.\u001B[34m__class__\u001B[39m.\u001B[34m__name__\u001B[39m\u001B[38;5;132;01m}\u001B[39;00m\u001B[33m \u001B[39m\u001B[33m'\u001B[39m\n\u001B[32m    181\u001B[39m                     \u001B[33mf\u001B[39m\u001B[33m'\u001B[39m\u001B[33mis not JSON serializable\u001B[39m\u001B[33m'\u001B[39m)\n",
      "\u001B[31mTypeError\u001B[39m: Object of type Timestamp is not JSON serializable"
     ]
    }
   ],
   "execution_count": 9
  },
  {
   "metadata": {},
   "cell_type": "code",
   "outputs": [],
   "execution_count": null,
   "source": "",
   "id": "8ca1648a89efcb34"
  }
 ],
 "metadata": {
  "kernelspec": {
   "display_name": "Python 3",
   "language": "python",
   "name": "python3"
  },
  "language_info": {
   "codemirror_mode": {
    "name": "ipython",
    "version": 2
   },
   "file_extension": ".py",
   "mimetype": "text/x-python",
   "name": "python",
   "nbconvert_exporter": "python",
   "pygments_lexer": "ipython2",
   "version": "2.7.6"
  }
 },
 "nbformat": 4,
 "nbformat_minor": 5
}
